{
  "cells": [
    {
      "cell_type": "code",
      "execution_count": null,
      "metadata": {
        "id": "IOXcPXSPQKmU"
      },
      "outputs": [],
      "source": [
        "import numpy as np\n",
        "import pandas as pd\n",
        "import os\n",
        "import pickle\n",
        "import math\n",
        "import tensorflow as tf\n",
        "import tensorflow_datasets as tfds\n",
        "from tensorflow.keras.preprocessing.image import ImageDataGenerator\n",
        "from tensorflow.keras.applications.vgg19 import preprocess_input\n",
        "import matplotlib.pyplot as plt"
      ]
    },
    {
      "cell_type": "code",
      "execution_count": null,
      "metadata": {
        "id": "ixBkPBetQNNM"
      },
      "outputs": [],
      "source": [
        "data, info = tfds.load(\"imagenette/160px-v2\", with_info=True, as_supervised=True)\n",
        "train_data, valid_data = data['train'], data['validation']\n",
        "\n",
        "del data"
      ]
    },
    {
      "cell_type": "code",
      "execution_count": null,
      "metadata": {
        "id": "cuSgiaSd86jo"
      },
      "outputs": [],
      "source": [
        "train_dataset = train_data.map(\n",
        "    lambda image, label: (tf.image.resize(image, (160, 160)), label))\n",
        "\n",
        "validation_dataset = valid_data.map(\n",
        "    lambda image, label: (tf.image.resize(image, (160, 160)), label)\n",
        ")\n",
        "\n",
        "del train_data\n",
        "del valid_data"
      ]
    },
    {
      "cell_type": "code",
      "execution_count": null,
      "metadata": {
        "colab": {
          "base_uri": "https://localhost:8080/"
        },
        "id": "WoMRYt189AYM",
        "outputId": "dd84a901-7319-476a-b43b-3400752acd92"
      },
      "outputs": [
        {
          "output_type": "stream",
          "name": "stdout",
          "text": [
            "Total number of classes in dataset is 10\n"
          ]
        }
      ],
      "source": [
        "num_classes = info.features['label'].num_classes\n",
        "print(f'Total number of classes in dataset is {num_classes}')"
      ]
    },
    {
      "cell_type": "code",
      "execution_count": null,
      "metadata": {
        "colab": {
          "base_uri": "https://localhost:8080/"
        },
        "id": "TCIah0yo9CaS",
        "outputId": "f7c4a5d0-272a-4629-bc77-b15d2d252e5d"
      },
      "outputs": [
        {
          "output_type": "stream",
          "name": "stdout",
          "text": [
            "The Label 0 name is `n01440764`\n",
            "The Label 1 name is `n02102040`\n",
            "The Label 2 name is `n02979186`\n",
            "The Label 3 name is `n03000684`\n",
            "The Label 4 name is `n03028079`\n",
            "The Label 5 name is `n03394916`\n",
            "The Label 6 name is `n03417042`\n",
            "The Label 7 name is `n03425413`\n",
            "The Label 8 name is `n03445777`\n",
            "The Label 9 name is `n03888257`\n"
          ]
        }
      ],
      "source": [
        "get_label_name = info.features['label'].int2str\n",
        "text_labels = [get_label_name(i) for i in range(num_classes)]\n",
        "for idx,i in enumerate(text_labels):\n",
        "    print(f'The Label {idx} name is `{i}`')"
      ]
    },
    {
      "cell_type": "code",
      "execution_count": null,
      "metadata": {
        "colab": {
          "base_uri": "https://localhost:8080/"
        },
        "id": "XIONi7JC9EU2",
        "outputId": "c49bbcae-c181-42f3-94ff-0927325692f1"
      },
      "outputs": [
        {
          "output_type": "stream",
          "name": "stdout",
          "text": [
            "CPU times: user 22.3 s, sys: 4.2 s, total: 26.5 s\n",
            "Wall time: 32.2 s\n"
          ]
        }
      ],
      "source": [
        "%%time\n",
        "\n",
        "X_train = list(map(lambda x: x[0], train_dataset))\n",
        "y_train = list(map(lambda x: x[1], train_dataset))\n",
        "\n",
        "\n",
        "X_valid = list(map(lambda x: x[0], validation_dataset))\n",
        "y_valid = list(map(lambda x: x[1], validation_dataset))\n",
        "\n",
        "y_train = tf.keras.utils.to_categorical(y_train, num_classes)\n",
        "y_valid = tf.keras.utils.to_categorical(y_valid, num_classes)\n",
        "\n",
        "del train_dataset\n",
        "del validation_dataset"
      ]
    },
    {
      "cell_type": "code",
      "execution_count": null,
      "metadata": {
        "colab": {
          "base_uri": "https://localhost:8080/"
        },
        "id": "vbT_13R69H3o",
        "outputId": "7f148a22-4f24-4bab-f7a6-3b71bdcfdcce"
      },
      "outputs": [
        {
          "output_type": "stream",
          "name": "stdout",
          "text": [
            "Train size 9469 and Valid size 3925\n"
          ]
        }
      ],
      "source": [
        "train_len = info.splits['train'].num_examples\n",
        "valid_len = info.splits['validation'].num_examples\n",
        "print(f'Train size {train_len} and Valid size {valid_len}')"
      ]
    },
    {
      "cell_type": "code",
      "execution_count": null,
      "metadata": {
        "colab": {
          "base_uri": "https://localhost:8080/"
        },
        "id": "hb41rnU-9KHc",
        "outputId": "f952ede1-9725-4fcf-abec-c79b05591e57"
      },
      "outputs": [
        {
          "output_type": "execute_result",
          "data": {
            "text/plain": [
              "((9469, 10), (3925, 10))"
            ]
          },
          "metadata": {},
          "execution_count": 8
        }
      ],
      "source": [
        "y_train.shape,y_valid.shape"
      ]
    },
    {
      "cell_type": "code",
      "execution_count": null,
      "metadata": {
        "id": "dR7R5rDd9L5v",
        "colab": {
          "base_uri": "https://localhost:8080/"
        },
        "outputId": "ae698441-a17b-44f8-dec6-b9631b2cc5ab"
      },
      "outputs": [
        {
          "output_type": "stream",
          "name": "stdout",
          "text": [
            "CPU times: user 1.87 s, sys: 1.11 s, total: 2.98 s\n",
            "Wall time: 3 s\n"
          ]
        }
      ],
      "source": [
        "%%time\n",
        "train_datagen = ImageDataGenerator(\n",
        "      rescale=1./255,\n",
        "      rotation_range=40,\n",
        "      height_shift_range=0.2)\n",
        "\n",
        "valid_datagen = ImageDataGenerator(\n",
        "      rescale=1./255)\n",
        "\n",
        "\n",
        "train_ds = tf.keras.preprocessing.image.NumpyArrayIterator(\n",
        "    x=preprocess_input(np.array(X_train)), y=np.array(y_train), image_data_generator=train_datagen,batch_size=16\n",
        ")\n",
        "\n",
        "valid_ds = tf.keras.preprocessing.image.NumpyArrayIterator(\n",
        "    x=preprocess_input(np.array(X_valid)), y=np.array(y_valid), image_data_generator=valid_datagen,batch_size=32\n",
        ")\n",
        "\n",
        "# train_datagen.fit(X_train)"
      ]
    },
    {
      "cell_type": "code",
      "execution_count": null,
      "metadata": {
        "id": "P0hMLVkW9Rlu",
        "colab": {
          "base_uri": "https://localhost:8080/"
        },
        "outputId": "10a2b6f9-321d-4671-ce50-fdffd8978828"
      },
      "outputs": [
        {
          "output_type": "execute_result",
          "data": {
            "text/plain": [
              "(592, 123)"
            ]
          },
          "metadata": {},
          "execution_count": 10
        }
      ],
      "source": [
        "train_ds.__len__(),valid_ds.__len__() #depends on batching"
      ]
    },
    {
      "cell_type": "code",
      "execution_count": null,
      "metadata": {
        "id": "BvN_-GtP9VKq"
      },
      "outputs": [],
      "source": [
        "class CustomMLoss(tf.keras.losses.Loss):\n",
        "    def __init__(self):\n",
        "        super().__init__()\n",
        "    def call(self, y_true, y_pred):\n",
        "        element_wise = tf.math.multiply_no_nan(x=y_true,\n",
        "                                                   y=tf.math.divide_no_nan(x=tf.math.subtract(x=y_true, y=y_pred), y=y_pred))\n",
        "        #element_wise = tf.math.add(x=tf.math.divide_no_nan(x=tf.math.subtract(x=y_true, y=y_pred), y=y_pred),\n",
        "        #                   y=tf.math.divide_no_nan(x=tf.math.subtract(x=1.0, y=y_true), y=tf.math.subtract(x=1.0, y=y_pred)))\n",
        "        return tf.reduce_mean(tf.reduce_sum(element_wise,axis=1))\n",
        "\n",
        "class CustomLLoss(tf.keras.losses.Loss):\n",
        "    def __init__(self):\n",
        "        super().__init__()\n",
        "    def call(self, y_true, y_pred):\n",
        "        element_wise = tf.math.divide_no_nan(x=y_true,\n",
        "                                             y=tf.math.sqrt(\n",
        "                                                 x=tf.math.subtract(x=1.0,\n",
        "                                                                    y=tf.math.squared_difference(x=y_pred, y=1.0))\n",
        "                                             ))\n",
        "\n",
        "        return tf.reduce_mean(tf.reduce_sum(element_wise,axis=1))\n",
        "\n",
        "class CustomLFullLoss(tf.keras.losses.Loss):\n",
        "    def __init__(self):\n",
        "        super().__init__()\n",
        "    def call(self, y_true, y_pred):\n",
        "        element_wise = tf.math.subtract(x=tf.math.add(x=tf.math.divide_no_nan(x=y_true,\n",
        "                                             y=tf.math.sqrt(\n",
        "                                                 x=tf.math.subtract(x=1.0,\n",
        "                                                                    y=tf.math.squared_difference(x=y_pred, y=1.0))\n",
        "                                             )),\n",
        "                                                      y=tf.math.divide_no_nan(x=tf.math.subtract(x=1.0,y=y_true),\n",
        "                                                                              y=tf.math.sqrt(\n",
        "                                                                                  tf.math.subtract(x=1.0,y=tf.math.square(y_pred))\n",
        "                                                                              ))),\n",
        "                                        y=1.0)\n",
        "\n",
        "        return tf.reduce_mean(tf.reduce_sum(element_wise,axis=1))\n",
        "\n",
        "class My_CE_Loss(tf.keras.losses.Loss):\n",
        "    def __init__(self):\n",
        "        super().__init__()\n",
        "    def call(self, y_true, y_pred):\n",
        "        log_y_pred = tf.math.log(y_pred)\n",
        "        element_wise = -tf.math.multiply_no_nan(x=log_y_pred, y=y_true)\n",
        "        return tf.reduce_mean(tf.reduce_sum(element_wise,axis=1))\n",
        "\n",
        "class ParabolicLoss(tf.keras.losses.Loss):\n",
        "    def __init__(self):\n",
        "        super().__init__()\n",
        "    def call(self, y_true, y_pred):\n",
        "        element_wise = tf.math.multiply_no_nan(x=y_true,\n",
        "                                                   y=tf.math.subtract(x=1.0, y=tf.math.square(y_pred)))\n",
        "        return tf.reduce_mean(tf.reduce_sum(element_wise,axis=1))\n",
        "\n",
        "class CircleLoss(tf.keras.losses.Loss):\n",
        "    def __init__(self):\n",
        "        super().__init__()\n",
        "    def call(self, y_true, y_pred):\n",
        "        element_wise = tf.math.multiply_no_nan(x=y_true,\n",
        "                                                   y=tf.math.sqrt(tf.math.subtract(x=1.0, y=tf.math.square(y_pred))))\n",
        "        return tf.reduce_mean(tf.reduce_sum(element_wise,axis=1))\n",
        "\n",
        "class CosLoss(tf.keras.losses.Loss):\n",
        "    def __init__(self):\n",
        "        super().__init__()\n",
        "    def call(self, y_true, y_pred):\n",
        "        element_wise = tf.math.multiply_no_nan(y_true, tf.math.cos(tf.math.divide_no_nan(tf.math.multiply_no_nan(math.pi, y_pred), 2.0)))\n",
        "        return tf.reduce_mean(tf.reduce_sum(element_wise,axis=1))"
      ]
    },
    {
      "cell_type": "code",
      "execution_count": null,
      "metadata": {
        "id": "1YKMorEZ9ZGB"
      },
      "outputs": [],
      "source": [
        "from tensorflow.keras.applications.vgg19 import VGG19\n",
        "from tensorflow.keras.models import Model\n",
        "from tensorflow.keras.layers import Input, GlobalAveragePooling2D, Dense\n",
        "from tensorflow.keras.optimizers import SGD, Adam\n",
        "\n",
        "base_model = VGG19(\n",
        "    include_top=False,\n",
        "    weights='imagenet',\n",
        "    input_shape=(160, 160, 3),\n",
        "    classes=10\n",
        ")\n",
        "\n",
        "for layer in base_model.layers:\n",
        "    layer.trainable = False\n",
        "\n",
        "x = base_model.output\n",
        "x = GlobalAveragePooling2D()(x)\n",
        "x = Dense(1024, activation='tanh')(x)\n",
        "predictions = Dense(10, activation='softmax')(x)\n",
        "model = Model(inputs=base_model.input, outputs=predictions)\n",
        "\n",
        "opt = Adam(learning_rate=1e-5)\n",
        "model.compile(optimizer=opt, loss=ParabolicLoss(), metrics=['accuracy'])"
      ]
    },
    {
      "cell_type": "code",
      "execution_count": null,
      "metadata": {
        "colab": {
          "base_uri": "https://localhost:8080/"
        },
        "id": "gXReCO7s9fCZ",
        "outputId": "4aef1e1d-fad9-4b4f-b725-4fe56b4de2e2"
      },
      "outputs": [
        {
          "output_type": "stream",
          "name": "stdout",
          "text": [
            "Epoch 1/50\n",
            "100/100 - 38s - loss: 0.9795 - accuracy: 0.1215 - val_loss: 0.9580 - val_accuracy: 0.0862 - 38s/epoch - 383ms/step\n",
            "Epoch 2/50\n"
          ]
        }
      ],
      "source": [
        "history = model.fit(\n",
        "  train_ds,\n",
        "  validation_data=valid_ds,\n",
        "  steps_per_epoch=100,\n",
        "  epochs=50,\n",
        "  validation_steps=50,\n",
        "  verbose=2\n",
        ")"
      ]
    },
    {
      "cell_type": "code",
      "execution_count": null,
      "metadata": {
        "colab": {
          "base_uri": "https://localhost:8080/"
        },
        "id": "Lmpiy9ro02nr",
        "outputId": "2637e62e-5767-4702-df93-e890242a18d6"
      },
      "outputs": [
        {
          "output_type": "stream",
          "name": "stdout",
          "text": [
            "The training accuracy was 0.75 and validation accuracy was 0.76 \n",
            "The training loss was 2.98 and validation loss was 2.59 \n"
          ]
        }
      ],
      "source": [
        "print(f'The training accuracy was {round(history.history[\"accuracy\"][-1],2)} and validation accuracy was {round(history.history[\"val_accuracy\"][-1],2)} ')\n",
        "print(f'The training loss was {round(history.history[\"loss\"][-1],2)} and validation loss was {round(history.history[\"val_loss\"][-1],2)} ')"
      ]
    },
    {
      "cell_type": "code",
      "execution_count": null,
      "metadata": {
        "id": "33Gu3Xf-vHu3",
        "colab": {
          "base_uri": "https://localhost:8080/"
        },
        "outputId": "7623d095-ce29-431d-be87-b098ae787c67"
      },
      "outputs": [
        {
          "output_type": "stream",
          "name": "stdout",
          "text": [
            "The training accuracy was 0.7339 and validation accuracy was 0.7768 \n",
            "The training loss was 3.019 and validation loss was 2.5389 \n"
          ]
        }
      ],
      "source": [
        "#L Full\n",
        "train_loss, train_acc = model.evaluate(train_ds, verbose=0)\n",
        "test_loss, test_acc = model.evaluate(valid_ds, verbose=0)\n",
        "print(f'The training accuracy was {round(train_acc,4)} and validation accuracy was {round(test_acc,4)} ')\n",
        "print(f'The training loss was {round(train_loss,4)} and validation loss was {round(test_loss,4)} ')"
      ]
    },
    {
      "cell_type": "code",
      "execution_count": null,
      "metadata": {
        "colab": {
          "base_uri": "https://localhost:8080/"
        },
        "id": "NUZGQuzievq1",
        "outputId": "f7081722-c292-4a06-c0ce-3e87f865993a"
      },
      "outputs": [
        {
          "name": "stdout",
          "output_type": "stream",
          "text": [
            "The training accuracy was 0.7613 and validation accuracy was 0.7613 \n",
            "The training loss was 0.8348 and validation loss was 0.8348 \n"
          ]
        }
      ],
      "source": [
        "#CE\n",
        "train_loss, train_acc = model.evaluate(valid_ds, verbose=0)\n",
        "test_loss, test_acc = model.evaluate(valid_ds, verbose=0)\n",
        "print(f'The training accuracy was {round(train_acc,4)} and validation accuracy was {round(test_acc,4)} ')\n",
        "print(f'The training loss was {round(train_loss,4)} and validation loss was {round(test_loss,4)} ')"
      ]
    },
    {
      "cell_type": "markdown",
      "metadata": {
        "id": "r0J_YpGNvu-j"
      },
      "source": [
        "## M Loss"
      ]
    },
    {
      "cell_type": "code",
      "execution_count": null,
      "metadata": {
        "colab": {
          "base_uri": "https://localhost:8080/"
        },
        "id": "BfGi-9sbvtxT",
        "outputId": "19cefa43-9439-47de-c5bd-52a57ede08c8"
      },
      "outputs": [
        {
          "name": "stdout",
          "output_type": "stream",
          "text": [
            "The training accuracy was 0.74 and validation accuracy was 0.78 \n",
            "The training loss was 2.87 and validation loss was 2.55 \n"
          ]
        }
      ],
      "source": [
        "print(f'The training accuracy was {round(history.history[\"accuracy\"][-1],2)} and validation accuracy was {round(history.history[\"val_accuracy\"][-1],2)} ')\n",
        "print(f'The training loss was {round(history.history[\"loss\"][-1],2)} and validation loss was {round(history.history[\"val_loss\"][-1],2)} ')"
      ]
    },
    {
      "cell_type": "markdown",
      "metadata": {
        "id": "rVglsgF1lR8e"
      },
      "source": [
        "## M Full Loss"
      ]
    },
    {
      "cell_type": "code",
      "execution_count": null,
      "metadata": {
        "colab": {
          "base_uri": "https://localhost:8080/"
        },
        "id": "x4kXaXcalUYb",
        "outputId": "61b87370-2085-441c-9342-86ce5f041b95"
      },
      "outputs": [
        {
          "name": "stdout",
          "output_type": "stream",
          "text": [
            "The training accuracy was 0.74 and validation accuracy was 0.76 \n",
            "The training loss was 3.94 and validation loss was 3.29 \n"
          ]
        }
      ],
      "source": [
        "print(f'The training accuracy was {round(history.history[\"accuracy\"][-1],2)} and validation accuracy was {round(history.history[\"val_accuracy\"][-1],2)} ')\n",
        "print(f'The training loss was {round(history.history[\"loss\"][-1],2)} and validation loss was {round(history.history[\"val_loss\"][-1],2)} ')"
      ]
    },
    {
      "cell_type": "markdown",
      "metadata": {
        "id": "qIKpx3x0fgf4"
      },
      "source": [
        "## L Loss"
      ]
    },
    {
      "cell_type": "code",
      "execution_count": null,
      "metadata": {
        "colab": {
          "base_uri": "https://localhost:8080/"
        },
        "id": "BSjFgLLoFhsX",
        "outputId": "506208b4-6b13-4851-e91b-186151a42b8e"
      },
      "outputs": [
        {
          "name": "stdout",
          "output_type": "stream",
          "text": [
            "The training accuracy was 0.75 and validation accuracy was 0.77 \n",
            "The training loss was 1.43 and validation loss was 1.37 \n"
          ]
        }
      ],
      "source": [
        "print(f'The training accuracy was {round(history.history[\"accuracy\"][-1],2)} and validation accuracy was {round(history.history[\"val_accuracy\"][-1],2)} ')\n",
        "print(f'The training loss was {round(history.history[\"loss\"][-1],2)} and validation loss was {round(history.history[\"val_loss\"][-1],2)} ')"
      ]
    },
    {
      "cell_type": "markdown",
      "metadata": {
        "id": "6qgV9IzsEBa6"
      },
      "source": [
        "## L Full loss"
      ]
    },
    {
      "cell_type": "code",
      "execution_count": null,
      "metadata": {
        "colab": {
          "base_uri": "https://localhost:8080/"
        },
        "id": "zz0lrN0XEEM4",
        "outputId": "5efff0c2-8561-46fc-c2f1-cf15540a0cdf"
      },
      "outputs": [
        {
          "name": "stdout",
          "output_type": "stream",
          "text": [
            "The training accuracy was 0.72 and validation accuracy was 0.78 \n",
            "The training loss was 0.49 and validation loss was 0.41 \n"
          ]
        }
      ],
      "source": [
        "print(f'The training accuracy was {round(history.history[\"accuracy\"][-1],2)} and validation accuracy was {round(history.history[\"val_accuracy\"][-1],2)} ')\n",
        "print(f'The training loss was {round(history.history[\"loss\"][-1],2)} and validation loss was {round(history.history[\"val_loss\"][-1],2)} ')"
      ]
    },
    {
      "cell_type": "markdown",
      "metadata": {
        "id": "zcAVzeco-Rnr"
      },
      "source": [
        "## My CE loss"
      ]
    },
    {
      "cell_type": "code",
      "execution_count": null,
      "metadata": {
        "colab": {
          "base_uri": "https://localhost:8080/"
        },
        "id": "Rk0MgwXT9mM5",
        "outputId": "756a6ca3-07a1-4367-8c33-a02c467d72e7"
      },
      "outputs": [
        {
          "name": "stdout",
          "output_type": "stream",
          "text": [
            "The training accuracy was 0.74 and validation accuracy was 0.74 \n",
            "The training loss was 0.96 and validation loss was 0.86 \n"
          ]
        }
      ],
      "source": [
        "print(f'The training accuracy was {round(history.history[\"accuracy\"][-1],2)} and validation accuracy was {round(history.history[\"val_accuracy\"][-1],2)} ')\n",
        "print(f'The training loss was {round(history.history[\"loss\"][-1],2)} and validation loss was {round(history.history[\"val_loss\"][-1],2)} ')"
      ]
    },
    {
      "cell_type": "code",
      "execution_count": null,
      "metadata": {
        "id": "dWfaRkiE-Tfx"
      },
      "outputs": [],
      "source": [
        "my_ce_loss_dict = history.history\n",
        "with open('my_ce_loss_dict.pickle', 'wb') as handle:\n",
        "    pickle.dump(my_ce_loss_dict, handle)"
      ]
    },
    {
      "cell_type": "code",
      "execution_count": null,
      "metadata": {
        "colab": {
          "base_uri": "https://localhost:8080/",
          "height": 590
        },
        "id": "ASemRCH2BNl2",
        "outputId": "fde93088-9a37-4136-ae61-92976e006686"
      },
      "outputs": [
        {
          "name": "stdout",
          "output_type": "stream",
          "text": [
            "dict_keys(['loss', 'accuracy', 'val_loss', 'val_accuracy'])\n"
          ]
        },
        {
          "data": {
            "image/png": "[encoded data removed]",
            "text/plain": [
              "<Figure size 432x288 with 1 Axes>"
            ]
          },
          "metadata": {},
          "output_type": "display_data"
        },
        {
          "data": {
            "image/png": "[encoded data removed]",
            "text/plain": [
              "<Figure size 432x288 with 1 Axes>"
            ]
          },
          "metadata": {},
          "output_type": "display_data"
        }
      ],
      "source": [
        "# list all data in history\n",
        "print(history.history.keys())\n",
        "# summarize history for accuracy\n",
        "plt.plot(history.history['accuracy'])\n",
        "plt.plot(history.history['val_accuracy'])\n",
        "plt.title('model accuracy')\n",
        "plt.ylabel('accuracy')\n",
        "plt.xlabel('epoch')\n",
        "plt.legend(['train', 'test'], loc='upper left')\n",
        "plt.show()\n",
        "# summarize history for loss\n",
        "plt.plot(history.history['loss'])\n",
        "plt.plot(history.history['val_loss'])\n",
        "plt.title('model loss')\n",
        "plt.ylabel('loss')\n",
        "plt.xlabel('epoch')\n",
        "plt.legend(['train', 'test'], loc='upper left')\n",
        "plt.show()"
      ]
    },
    {
      "cell_type": "code",
      "execution_count": null,
      "metadata": {
        "id": "AKB2nAJSBVdY"
      },
      "outputs": [],
      "source": []
    }
  ],
  "metadata": {
    "accelerator": "GPU",
    "colab": {
      "provenance": []
    },
    "gpuClass": "standard",
    "kernelspec": {
      "display_name": "Python 3",
      "name": "python3"
    }
  },
  "nbformat": 4,
  "nbformat_minor": 0
}