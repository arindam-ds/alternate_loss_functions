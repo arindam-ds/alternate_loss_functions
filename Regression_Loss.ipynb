{
  "nbformat": 4,
  "nbformat_minor": 0,
  "metadata": {
    "colab": {
      "provenance": [],
      "gpuType": "T4"
    },
    "kernelspec": {
      "name": "python3",
      "display_name": "Python 3"
    },
    "language_info": {
      "name": "python"
    },
    "accelerator": "GPU"
  },
  "cells": [
    {
      "cell_type": "code",
      "execution_count": null,
      "metadata": {
        "colab": {
          "base_uri": "https://localhost:8080/",
          "height": 430
        },
        "id": "pRnpfZAgr0_w",
        "outputId": "3878f06b-6927-4dfd-a252-8fce73eaf949"
      },
      "outputs": [
        {
          "output_type": "display_data",
          "data": {
            "text/plain": [
              "<Figure size 640x480 with 1 Axes>"
            ],
            "image/png": "[encoded data removed]"
          },
          "metadata": {}
        }
      ],
      "source": [
        "import numpy as np\n",
        "import pandas as pd\n",
        "import matplotlib.pyplot as plt\n",
        "import seaborn as sns\n",
        "\n",
        "from sklearn import datasets\n",
        "\n",
        "N_SAMPLES = 10000\n",
        "N_OUTLIERS = 500\n",
        "\n",
        "X, y, coef = datasets.make_regression(\n",
        "\tn_samples=N_SAMPLES,\n",
        "\tn_features=1,\n",
        "\tn_informative=1,\n",
        "\tnoise=20,\n",
        "\tcoef=True,\n",
        "\trandom_state=42\n",
        ")\n",
        "coef_list = [[\"original_coef\", float(coef)]]\n",
        "\n",
        "# add outliers\n",
        "np.random.seed(42)\n",
        "X[:N_OUTLIERS] = 10 + 0.75 * np.random.normal(size=(N_OUTLIERS, 1))\n",
        "y[:N_OUTLIERS] = -15 + 20 * np.random.normal(size=N_OUTLIERS)\n",
        "\n",
        "X[-N_OUTLIERS:] = 20 - 0.75 * np.random.normal(size=(N_OUTLIERS, 1))\n",
        "y[-N_OUTLIERS:] = 35 - 20 * np.random.normal(size=N_OUTLIERS)\n",
        "\n",
        "plt.scatter(X, y);"
      ]
    },
    {
      "cell_type": "code",
      "source": [
        "from sklearn.metrics import mean_absolute_error, mean_squared_error"
      ],
      "metadata": {
        "colab": {
          "base_uri": "https://localhost:8080/"
        },
        "id": "Z7HmPvJStM_8",
        "outputId": "d52e5c73-db01-4153-a387-2f7776511186",
        "collapsed": true
      },
      "execution_count": null,
      "outputs": [
        {
          "output_type": "stream",
          "name": "stdout",
          "text": [
            "28.27344604947067\n",
            "1255.8062168229303\n"
          ]
        }
      ]
    },
    {
      "cell_type": "code",
      "source": [
        "import tensorflow as tf\n",
        "\n",
        "normalizer = tf.keras.layers.Normalization(input_shape=[500,1], axis=None)\n",
        "normalizer.adapt(X)"
      ],
      "metadata": {
        "id": "NLZU1xNuvM-E"
      },
      "execution_count": null,
      "outputs": []
    },
    {
      "cell_type": "code",
      "source": [
        "class CustomMAELoss(tf.keras.losses.Loss):\n",
        "    def __init__(self):\n",
        "        super().__init__()\n",
        "    def call(self, y_true, y_pred):\n",
        "        element_wise = tf.math.abs(tf.math.subtract(y_true, y_pred))\n",
        "        return tf.reduce_mean(tf.reduce_sum(element_wise,axis=1))\n",
        "\n",
        "class CustomSMAELoss(tf.keras.losses.Loss):\n",
        "    def __init__(self):\n",
        "        super().__init__()\n",
        "    def call(self, y_true, y_pred):\n",
        "        element_wise = tf.math.multiply_no_nan(x=tf.math.subtract(y_true, y_pred), y=tf.math.tanh(tf.math.divide_no_nan(tf.math.subtract(y_true, y_pred), 2.0)))\n",
        "        return tf.reduce_mean(tf.reduce_sum(element_wise,axis=1))"
      ],
      "metadata": {
        "id": "rIkmt6VF2HPq"
      },
      "execution_count": null,
      "outputs": []
    },
    {
      "cell_type": "code",
      "source": [
        "def create_model():\n",
        "  model = tf.keras.Sequential([\n",
        "      normalizer,\n",
        "      tf.keras.layers.Dense(units=1)\n",
        "  ])\n",
        "  return model\n",
        "mae = tf.keras.losses.MeanAbsoluteError()\n",
        "mse = tf.keras.losses.MeanSquaredError()\n",
        "losses = [CustomSMAELoss(), tf.keras.losses.MeanAbsoluteError(), tf.keras.losses.MeanSquaredError(), tf.keras.losses.Huber(), tf.keras.losses.LogCosh()]\n",
        "names = [\"SMAE\",\"MAE\",\"MSE\",\"Huber\",\"LogCosh\"]\n",
        "for i in range(len(losses)):\n",
        "    tf.keras.backend.clear_session()\n",
        "    loss_fn = losses[i]\n",
        "    model = create_model()\n",
        "    model.compile(optimizer=tf.keras.optimizers.Adam(learning_rate=2e-5), loss=loss_fn, metrics=[tf.keras.metrics.MeanAbsoluteError()])\n",
        "    history = model.fit(X, y, epochs=100, verbose=0, validation_split = 0.2)\n",
        "    print(\"Loss: {0}, MAE: {1}, MSE: {2}\".format(names[i], mae(y, model.predict(X)).numpy(), mse(y, model.predict(X)).numpy()))"
      ],
      "metadata": {
        "colab": {
          "base_uri": "https://localhost:8080/"
        },
        "id": "fGOCK877ySXl",
        "outputId": "86f52990-b609-4655-f1de-463fc29b1d71"
      },
      "execution_count": null,
      "outputs": [
        {
          "output_type": "stream",
          "name": "stdout",
          "text": [
            "313/313 [==============================] - 1s 2ms/step\n",
            "313/313 [==============================] - 1s 2ms/step\n",
            "Loss: SMAE, MAE: 29.69865608215332, MSE: 1381.391845703125\n",
            "313/313 [==============================] - 1s 2ms/step\n",
            "313/313 [==============================] - 1s 2ms/step\n",
            "Loss: MAE, MAE: 29.718461990356445, MSE: 1383.31103515625\n",
            "313/313 [==============================] - 1s 2ms/step\n",
            "313/313 [==============================] - 1s 2ms/step\n",
            "Loss: MSE, MAE: 29.697200775146484, MSE: 1381.2545166015625\n",
            "313/313 [==============================] - 1s 3ms/step\n",
            "313/313 [==============================] - 1s 3ms/step\n",
            "Loss: Huber, MAE: 29.71204376220703, MSE: 1382.682861328125\n",
            "313/313 [==============================] - 1s 2ms/step\n",
            "313/313 [==============================] - 1s 2ms/step\n",
            "Loss: LogCosh, MAE: 29.718259811401367, MSE: 1383.291015625\n"
          ]
        }
      ]
    }
  ]
}